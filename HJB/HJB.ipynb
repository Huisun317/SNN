{
 "cells": [
  {
   "cell_type": "code",
   "execution_count": 21,
   "id": "95d4dd25",
   "metadata": {},
   "outputs": [],
   "source": [
    "import numpy as np\n",
    "import torch\n",
    "import torch.nn as nn\n",
    "import time \n",
    "import logging\n",
    "import torch.optim as optim\n",
    "import os\n",
    "from scipy.stats import multivariate_normal as normal\n",
    "import torch.nn.functional as F\n",
    "from torch.nn import Parameter\n",
    "import matplotlib.pyplot as plt"
   ]
  },
  {
   "cell_type": "code",
   "execution_count": 33,
   "id": "c076ad19",
   "metadata": {},
   "outputs": [
    {
     "name": "stdout",
     "output_type": "stream",
     "text": [
      "Using cpu device\n"
     ]
    }
   ],
   "source": [
    "device = \"cuda\" if torch.cuda.is_available() else \"cpu\"\n",
    "print(\"Using {} device\".format(device))\n",
    "\n",
    "data_type=torch.float32\n",
    "MOMENTUM = 0.99\n",
    "EPSILON = 1e-6"
   ]
  },
  {
   "cell_type": "code",
   "execution_count": 34,
   "id": "b8dd2a00",
   "metadata": {},
   "outputs": [],
   "source": [
    "class Config(object):\n",
    "    n_layer = 4\n",
    "    batch_size = 1024\n",
    "    valid_size = 1024\n",
    "    \n",
    "    dim=100; \n",
    "    Ntime=10; \n",
    "    delta=1/Ntime\n",
    "    sqrt_deltaT=np.sqrt(1.0/Ntime); \n",
    "    lam=1; \n",
    "\n",
    "    logging_frequency = 100\n",
    "    verbose = True\n",
    "    y_init_range = [0, 1]\n",
    "    \n",
    "    num_hiddens = [dim,128,128,dim] ## 256 ,256\n",
    "    \n",
    "def get_config(name):\n",
    "    try:\n",
    "        return globals()[name]\n",
    "    except KeyError:\n",
    "        raise KeyError(\"config not defined.\")"
   ]
  },
  {
   "cell_type": "code",
   "execution_count": 35,
   "id": "53bcb240",
   "metadata": {},
   "outputs": [],
   "source": [
    "cfg=get_config('Config')"
   ]
  },
  {
   "cell_type": "code",
   "execution_count": 36,
   "id": "67435116",
   "metadata": {},
   "outputs": [],
   "source": [
    "\"\"\"\n",
    "This function defines one block for the nn \n",
    "\"\"\"\n",
    "class Dense(nn.Module): \n",
    "    def __init__(self,cin, cout, batch_norm=False, activate=True): \n",
    "        super(Dense,self).__init__()\n",
    "        self.cin=cin; \n",
    "        self.cout=cout; \n",
    "        self.activate=activate; \n",
    "        \n",
    "        self.linear=nn.Linear(self.cin,self.cout) #The linear layer\n",
    "        #BatchNorm1d: it requires the input to be a correct size\n",
    "        if batch_norm: \n",
    "            self.bn=nn.BatchNorm1d(cout,eps=EPSILON,momentum=MOMENTUM)\n",
    "        else: \n",
    "            self.bn=None\n",
    "      #  nn.init.normal_(self.linear.weight,std=5.0/np.sqrt(cin+cout))\n",
    "        # This is the He initialization\n",
    "        \n",
    "    def forward(self,x): \n",
    "        x=self.linear(x)\n",
    "        if self.bn is not None:\n",
    "            x=self.bn(x)\n",
    "        if self.activate:\n",
    "            x=torch.sin(x)\n",
    "        return x "
   ]
  },
  {
   "cell_type": "code",
   "execution_count": 37,
   "id": "c4adec0d",
   "metadata": {},
   "outputs": [],
   "source": [
    "#orch.LeakyReLU"
   ]
  },
  {
   "cell_type": "code",
   "execution_count": 38,
   "id": "cc6958eb",
   "metadata": {},
   "outputs": [],
   "source": [
    "\"\"\"\n",
    "Constructing the Policy control\n",
    "\n",
    "The control should take as input (X')=(t,X) as the input, and so the input dimension \n",
    "should be 1+dim\n",
    "\"\"\"\n",
    "class controlNN(nn.Module):\n",
    "    def __init__(self, config):\n",
    "        super(controlNN,self).__init__()\n",
    "        self.config=config\n",
    "        \n",
    "        self.bn=nn.BatchNorm1d(config.num_hiddens[0],eps=EPSILON,momentum=MOMENTUM) ## So there is batch norm no problem\n",
    "        # range(1,5): 1,2,3,4\n",
    "        self.layers=[Dense(config.num_hiddens[i-1],config.num_hiddens[i]) for i in range(1, len(config.num_hiddens)-1)]\n",
    "        self.layers+=[Dense(config.num_hiddens[-2], config.num_hiddens[-1],activate=False)]\n",
    "        self.layers=nn.Sequential(*self.layers)\n",
    "    \n",
    "    def forward(self,x):\n",
    "        x=self.bn(x)\n",
    "        x=self.layers(x)\n",
    "        return x "
   ]
  },
  {
   "cell_type": "code",
   "execution_count": 39,
   "id": "c4c4822a",
   "metadata": {},
   "outputs": [],
   "source": [
    "class NeuralNet(nn.Module):\n",
    "    def __init__(self,config):\n",
    "        super(NeuralNet, self).__init__()\n",
    "        self.config=config\n",
    "        self.batch_size=self.config.batch_size\n",
    "        self.dim=self.config.dim\n",
    "        self.Ntime=self.config.Ntime\n",
    "        self.delta=self.config.delta\n",
    "        self.sqrt_deltaT =self.config.sqrt_deltaT\n",
    "        self.diffusion=torch.sqrt(2.0*torch.ones(1))\n",
    "        self.diffusion.requires_grad=False\n",
    "        self.lam=self.config.lam\n",
    "        \n",
    "        ## We make the change here \n",
    "        self.mList=nn.ModuleList([controlNN(config) for _ in range(self.Ntime)])    # controlNN(self.config)\n",
    "        \n",
    "        self.time_stamp=torch.ones([self.batch_size,1, self.Ntime+1])*torch.arange(0,self.Ntime+1)*self.delta\n",
    "        \n",
    "        # x should have the size (batch_size,_)\n",
    "        \n",
    "    def g(self,x):\n",
    "        temp=torch.log(0.5*(1.0+ torch.sum(torch.square(x), dim=1, keepdim=True))) \n",
    "        return temp\n",
    "    \n",
    "    def gx(self,x):\n",
    "        temp= x*2.0/(1.0+torch.sum(torch.square(x), dim=1, keepdim=True))\n",
    "        return temp\n",
    "        \n",
    "        \n",
    "    def forwardX(self,x): \n",
    "        xMat=torch.zeros([self.batch_size, self.dim, self.Ntime+1])\n",
    "       # xcatMat=torch.zeros([self.batch_size, self.dim+1, self.Ntime+1])\n",
    "        \n",
    "        wMat=torch.FloatTensor(normal.rvs(size=[self.batch_size,self.dim,self.Ntime])*self.sqrt_deltaT)\n",
    "        wMat=torch.reshape(wMat,(self.batch_size,self.dim,self.Ntime)) # Reshaping is needed when dim==1 \n",
    "        \n",
    "        xinit=torch.clone(x)\n",
    "        xinit=torch.reshape(xinit,[self.batch_size, self.dim])\n",
    "        \n",
    "        xMat[:,:,0]=xinit \n",
    "        \n",
    "       # xcat=torch.cat((self.time_stamp[:,:,0], xMat[:,:,0]),1)\n",
    "        for i in range(0, self.Ntime):\n",
    "          #  xcat=torch.cat((self.time_stamp[:,:,i], xMat[:,:,i]),1)\n",
    "        #    xcatMat[:,:,i]= xcat\n",
    "\n",
    "            control_temp=self.mList[i](xMat[:,:,i]); \n",
    "\n",
    "            xMat[:,:,i+1]=xMat[:,:,i]+(2.0*np.sqrt(self.lam)*control_temp)*self.delta \\\n",
    "            +self.diffusion*wMat[:,:,i]  \n",
    "        \n",
    "        return xMat, wMat \n",
    "        \n",
    "    def backwardYZ(self,xMat,wMat): \n",
    "        yMat=torch.zeros([self.batch_size, self.dim, self.Ntime+1]); \n",
    "        zMat=torch.zeros([self.batch_size, self.dim, self.Ntime]);\n",
    "        \n",
    "        yMat[:,:,-1]=-1.0*self.gx(xMat[:,:,-1]); \n",
    "        \n",
    "        for i in range(self.Ntime-1, -1, -1):\n",
    "            zMat[:,:,i]= wMat[:,:,i]*yMat[:,:,i+1]/self.delta\n",
    "            # we will have to do the differentiation and everything\n",
    "            \n",
    "            X=xMat[:,:,i];\n",
    "          #  xcat=torch.cat((self.time_stamp[:,:,i],X),1)   \n",
    "            # y*b+σ*z+f\n",
    "            \n",
    "            ctrl=self.mList[i](X)\n",
    "            \n",
    "            hami=torch.sum(np.sqrt(self.lam)*2.0*yMat[:,:,i+1].detach()*ctrl  \n",
    "                           +self.diffusion*zMat[:,:,i].detach() - ctrl*ctrl,\n",
    "                           dim=1, keepdim=True)\n",
    "            \n",
    "            hami_x=torch.autograd.grad(outputs=[hami], inputs=[X], grad_outputs=torch.ones_like(hami), allow_unused=True,\n",
    "                                 retain_graph=True, create_graph=True)[0]\n",
    "            \n",
    "            yMat[:,:,i]= yMat[:,:,i+1] +hami_x* self.delta \n",
    "            \n",
    "        return yMat, zMat\n",
    "    \n",
    "    def Hamcompute(self,xMat,yMat,zMat):\n",
    "        ham=0.0\n",
    "        for i in range(0,self.Ntime):\n",
    "         #   xcat=torch.cat((self.time_stamp[:,:,i],xMat[:,:,i]),1); \n",
    "            X=xMat[:,:,i]\n",
    "            temp=self.mList[i](X.detach()); \n",
    "\n",
    "            ham+=ham+torch.sum(np.sqrt(self.lam)*2.0*yMat[:,:,i].detach()* temp\n",
    "                           +self.diffusion*zMat[:,:,i].detach() - temp*temp)\n",
    "        return -ham/self.batch_size/self.Ntime\n",
    "\n",
    "    def computeLoss(self,xMat):\n",
    "        loss=0.0 \n",
    "        for i in range(0,self.Ntime):\n",
    "            #xcat=torch.cat((self.time_stamp[:,:,i],xMat[:,:,i]),1)\n",
    "            X=xMat[:,:,i]\n",
    "            tempctrl=self.mList[i](X)\n",
    "            \n",
    "            loss+=torch.sum(torch.square(tempctrl),dim=1,keepdim=True)*self.delta\n",
    "        \n",
    "        loss+=self.g(xMat[:,:,-1])\n",
    "        \n",
    "        return torch.mean(loss) "
   ]
  },
  {
   "cell_type": "code",
   "execution_count": 40,
   "id": "62c78093",
   "metadata": {},
   "outputs": [],
   "source": [
    "def train(cfg):\n",
    "    \n",
    "    model=NeuralNet(cfg);\n",
    "    x0=torch.zeros([cfg.batch_size,cfg.dim])\n",
    "    \n",
    "    epoch=400; \n",
    "    \n",
    "    optimizer=optim.Adam(model.parameters(),lr=1e-3)\n",
    "    \n",
    "    scheduler = optim.lr_scheduler.MultiStepLR(optimizer, milestones=[400], gamma=0.1) \n",
    "    \n",
    "    \n",
    "    for i in range(0, epoch):\n",
    "        optimizer.zero_grad()\n",
    "        \n",
    "        xmat,wmat=model.forwardX(x0)\n",
    "        ymat,zmat=model.backwardYZ(xmat,wmat)\n",
    "        # compute the Hamiltonian\n",
    "        ham=model.Hamcompute(xmat,ymat,zmat)\n",
    "        ham.backward()\n",
    "        #torch.nn.utils.clip_grad_norm_(model.parameters(),10)\n",
    "        \n",
    "        optimizer.step()\n",
    "       # scheduler.step()\n",
    "        \n",
    "        if i % 20 ==0:           \n",
    "            print(\"Iter:\", i,  model.computeLoss(xmat).item())"
   ]
  },
  {
   "cell_type": "code",
   "execution_count": 41,
   "id": "54ba13e4",
   "metadata": {},
   "outputs": [],
   "source": [
    "md=NeuralNet(cfg)"
   ]
  },
  {
   "cell_type": "code",
   "execution_count": 42,
   "id": "e254885d",
   "metadata": {},
   "outputs": [
    {
     "name": "stdout",
     "output_type": "stream",
     "text": [
      "Iter: 0 5.251187324523926\n",
      "Iter: 20 4.604968547821045\n",
      "Iter: 40 4.596710205078125\n",
      "Iter: 60 4.586008071899414\n",
      "Iter: 80 4.59016227722168\n",
      "Iter: 100 4.588786602020264\n",
      "Iter: 120 4.5910139083862305\n",
      "Iter: 140 4.5925469398498535\n",
      "Iter: 160 4.584819316864014\n",
      "Iter: 180 4.593784332275391\n",
      "Iter: 200 4.590529441833496\n",
      "Iter: 220 4.595129013061523\n",
      "Iter: 240 4.595467567443848\n",
      "Iter: 260 4.592103958129883\n",
      "Iter: 280 4.592272758483887\n",
      "Iter: 300 4.579254150390625\n",
      "Iter: 320 4.5872297286987305\n",
      "Iter: 340 4.592634201049805\n",
      "Iter: 360 4.59251594543457\n",
      "Iter: 380 4.589260578155518\n"
     ]
    }
   ],
   "source": [
    "train(cfg) #torch.mean(ymat[:,:,0]).item(),"
   ]
  },
  {
   "cell_type": "code",
   "execution_count": 59,
   "id": "e4733080",
   "metadata": {},
   "outputs": [],
   "source": [
    "def gTerm(x):\n",
    "    temp=torch.log(0.5*(1.0+ torch.sum(torch.square(x), dim=1, keepdim=True))) \n",
    "    return temp"
   ]
  },
  {
   "cell_type": "code",
   "execution_count": 80,
   "id": "66436604",
   "metadata": {},
   "outputs": [],
   "source": [
    "def gExt(x,lamb):\n",
    "    res=-1.0/lamb * torch.log(torch.mean( torch.exp(-gTerm(np.sqrt(2.0)*x))**lamb ))   \n",
    "    return res"
   ]
  },
  {
   "cell_type": "code",
   "execution_count": 129,
   "id": "48e953c5",
   "metadata": {},
   "outputs": [
    {
     "data": {
      "text/plain": [
       "tensor([4.4340])"
      ]
     },
     "execution_count": 129,
     "metadata": {},
     "output_type": "execute_result"
    }
   ],
   "source": [
    "dim_in=100\n",
    "Xin=torch.FloatTensor(normal.rvs(size=[100000,dim_in]))\n",
    "gExt(Xin,15*torch.ones(1))"
   ]
  },
  {
   "cell_type": "code",
   "execution_count": 136,
   "id": "8e8b7410",
   "metadata": {},
   "outputs": [],
   "source": [
    "vec=[1.0,5.0,10.0,15.0,20.0]\n",
    "pred=[4.5897,4.5545,4.50,4.44,4.393]\n",
    "exactVal=[4.59,4.5478,4.4959,4.433,4.3735]"
   ]
  },
  {
   "cell_type": "code",
   "execution_count": 143,
   "id": "b7e2c7ea",
   "metadata": {},
   "outputs": [
    {
     "data": {
      "text/plain": [
       "<matplotlib.legend.Legend at 0xa57ff3f10>"
      ]
     },
     "execution_count": 143,
     "metadata": {},
     "output_type": "execute_result"
    },
    {
     "data": {
      "image/png": "[encoded data removed]",
      "text/plain": [
       "<Figure size 432x288 with 1 Axes>"
      ]
     },
     "metadata": {},
     "output_type": "display_data"
    }
   ],
   "source": [
    "fig = plt.figure(facecolor=(1, 1, 1))\n",
    "plt.grid(True,which=\"both\", linestyle='--')\n",
    "\n",
    "plt.plot(vec,pred,linestyle='-', marker='o',\n",
    "     markerfacecolor='blue')\n",
    "plt.plot(vec,exactVal,linestyle='-', marker='o',\n",
    "     markerfacecolor='red')\n",
    "plt.ylabel('Value')\n",
    "plt.xlabel('Lambda values')\n",
    "plt.title('Train_loss', fontsize=10)\n",
    "\n",
    "plt.legend([\"Model values\", \"Exact values\"])\n",
    "\n",
    "#plt.savefig(\"hjb.png\",bbox_inches='tight')"
   ]
  },
  {
   "cell_type": "code",
   "execution_count": null,
   "id": "f3adfcc1",
   "metadata": {},
   "outputs": [],
   "source": []
  },
  {
   "cell_type": "code",
   "execution_count": null,
   "id": "e9c2aafb",
   "metadata": {},
   "outputs": [],
   "source": []
  }
 ],
 "metadata": {
  "kernelspec": {
   "display_name": "Python 3 (ipykernel)",
   "language": "python",
   "name": "python3"
  },
  "language_info": {
   "codemirror_mode": {
    "name": "ipython",
    "version": 3
   },
   "file_extension": ".py",
   "mimetype": "text/x-python",
   "name": "python",
   "nbconvert_exporter": "python",
   "pygments_lexer": "ipython3",
   "version": "3.8.12"
  }
 },
 "nbformat": 4,
 "nbformat_minor": 5
}
